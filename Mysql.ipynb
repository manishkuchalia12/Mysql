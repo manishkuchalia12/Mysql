{
 "cells": [
  {
   "cell_type": "markdown",
   "id": "37d9655c-9a28-4c7e-bbbe-7b1d55be7369",
   "metadata": {},
   "source": [
    "Q1. What is a database? Differentiate between SQL and NoSQL databases.\n",
    "Ans:-A database is a structured collection of data that is organized and stored in a way that enables efficient retrieval, management, and updating of that data.\n",
    "\n",
    "SQL (Structured Query Language) Databases:\r\n",
    "1.ta: SQL databases are relational and structured, using tables to organize data into rows and columns. Each record in a table is a tuple, and relationships between tables are established through kh2.ma:\r\n",
    "\r\n",
    "Schema-Based: SQL databases have a predefined schema that defines the structure of the data, including tables, fields, and their relationships. Changes to the schema can be complex and may require dS3.aling:\r\n",
    "\r\n",
    "Vertical Scaling: SQL databases are typically scaled vertically by adding more horsepower (CPU, RAM) to a single server. Vertical scaling has limits and can become o4.sistency:\r\n",
    "\r\n",
    "ACID Properties: SQL databases adhere to ACID properties (Atomicity, Consistency, Isolation, Durability), ensuring that transactions are reliabu5.ry Language:\r\n",
    "\r\n",
    "SQL: SQL is the standard query language used for interacting with SQL databases. It provides a powerful and expressive syntax for querying and ma\n",
    "\n",
    "\n",
    "NoSQL Databases::1.\r\n",
    "\r\n",
    "Flexible Data Models: NoSQL databases support various data models, including document, key-value, wide-column, and graph. They are designed to handle unstructured or semi-structured .h2.ma:\r\n",
    "\r\n",
    "Schema-Less or Dynamic Schema: NoSQL databases are schema-less or have a dynamic schema, allowing for flexible and dynamic data models. New fields can be added to records without affecting the existing3.aling:\r\n",
    "\r\n",
    "Horizontal Scaling: NoSQL databases are typically scaled horizontally by adding more servers to a distributed system. This allows for better scalability and handling of large amounts4sistency:\r\n",
    "\r\n",
    "Eventual Consistency: NoSQL databases often prioritize performance and scalability over strong consistency. They may provide eventual consistency, where all replicas of data will converge to a consistent stae5.ry Language:\r\n",
    "\r\n",
    "Varies: NoSQL databases may use various query languages or APIs depending on the type of database. Some use SQL-like languages, while others use APIs specific to their data model.nipulating data."
   ]
  },
  {
   "cell_type": "markdown",
   "id": "d91c1841-4957-47a9-a690-cf468f6b7fb9",
   "metadata": {},
   "source": [
    "Q2. What is DDL? Explain why CREATE, DROP, ALTER, and TRUNCATE are used with an example.\n",
    "Ans:-Data Definition Language (DDL) is a subset of SQL (Structured Query Language) that is used to define and manage the structure of a database."
   ]
  },
  {
   "cell_type": "markdown",
   "id": "5de93f4a-5ee3-4766-8e79-803fcdf90784",
   "metadata": {},
   "source": [
    "CREATE: Used to create database objects such as tables, indexes, and views.\n",
    "CREATE TABLE employees (\n",
    "   emp_id INT PRIMARY KEY,\n",
    "   emp_name VARCHAR(50),\n",
    "   emp_salary DECIMAL(10, 2)\n",
    ");\n",
    "ALTER: Used to modify the structure of existing database objects.ode\r\n",
    "ALTER TABLE employees\r\n",
    "ADD COLUMN emp_department VARCHAR\n",
    "\n",
    "DROP: Used to delete database objects.ode\r\n",
    "DROP TABLE employ\n",
    "\n",
    "TRUNCATE: Used to remove all rows from a table while keeping its structure intact.ode\r\n",
    "TRUNCATE TABLE employees;\n",
    "ees;(50);"
   ]
  },
  {
   "cell_type": "markdown",
   "id": "6f8a72fc-d74a-4541-b77e-70f5d1fbb8ae",
   "metadata": {},
   "source": [
    "Q3. What is DML? Explain INSERT, UPDATE, and DELETE with an example.\n",
    "Ans:-Data Manipulation Language (DML) is another subset of SQL that deals with the manipulation and retrieval of data stored in the database. DML commands are used to insert, update, delete, and retrieve data from database tables.\n",
    "\n",
    "\n",
    "INSERT: Used to add new records (rows) to a table.ode\r\n",
    "INSERT INTO employees (emp_id, emp_name, emp_salary)\r\n",
    "VALUES (1, 'John Doe', 50\n",
    "\n",
    "UPDATE: Used to modify existing records in a table.ode\r\n",
    "UPDATE employees\r\n",
    "SET emp_salary = emp_salary * 1.1\r\n",
    "WHERE emp_department = 'S\n",
    "\n",
    "DELETE: Used to remove records from a table.\r",
    "ode\r\n",
    "DELETE FROM employees\r\n",
    "WHERE emp_id = 2;ales';\n",
    "\n",
    "000); 'IT';"
   ]
  },
  {
   "cell_type": "markdown",
   "id": "7d4d1b71-6840-4bd0-8406-b4ffa0e10d73",
   "metadata": {},
   "source": [
    "Q4. What is DQL? Explain SELECT with an example.\n",
    "Ans:-DQL, or Data Query Language, is a subset of SQL (Structured Query Language) used for querying and retrieving data from a database. The primary and most commonly used DQL command is SELECT. \n",
    "The SELECT statement is used to query a database and retrieve data from one or more tables. It allows users to specify the columns they want to retrieve, filter data based on conditions, and sort the results. \n",
    "Ex:-SELECT column1, column2, ...\r\n",
    "FROM table\r\n",
    "WHERE condition;\r\n"
   ]
  },
  {
   "cell_type": "markdown",
   "id": "06abb005-6612-419e-94bd-5c2f75d22c1c",
   "metadata": {},
   "source": [
    "Q5. Explain Primary Key and Foreign Key.\n",
    "primary key:- is a selected candidate key that is chosen to uniquely identify each record in a table. It must be unique for each tuple.\n",
    "Foreign Key:A foreign key is a field (or a set of fields) in one table that refers to the primary key in another table. It establishes a link between the two tables, enforcing referential integrity."
   ]
  },
  {
   "cell_type": "markdown",
   "id": "4151b828-c6a2-42d1-9ccc-bbd325a87c55",
   "metadata": {},
   "source": [
    "Q6. Write a python code to connect MySQL to python. Explain the cursor() and execute() method.\n",
    "import mysql.connectorls\r\n",
    "host = \"your_mysql_host\"\r\n",
    "user = \"your_mysql_user\"\r\n",
    "password = \"your_mysql_password\"\r\n",
    "database = \"your_mysql_datto MySQL\r\n",
    "connection = mysql.connector.connect(\r\n",
    "    host=host,\r\n",
    "    user=user,\r\n",
    "    password=password,\r\n",
    "    databasith the database\r\n",
    "cursor = connCursor: The cursor() method creates a cursor object, which is used to interact with the MySQL database. The cursor is responsible for executing SQL queries.\n",
    "nd connection\r\n",
    "    cursor.close()\r\n",
    "    connection.close()\r\n"
   ]
  }
 ],
 "metadata": {
  "kernelspec": {
   "display_name": "Python 3 (ipykernel)",
   "language": "python",
   "name": "python3"
  },
  "language_info": {
   "codemirror_mode": {
    "name": "ipython",
    "version": 3
   },
   "file_extension": ".py",
   "mimetype": "text/x-python",
   "name": "python",
   "nbconvert_exporter": "python",
   "pygments_lexer": "ipython3",
   "version": "3.12.0"
  }
 },
 "nbformat": 4,
 "nbformat_minor": 5
}
